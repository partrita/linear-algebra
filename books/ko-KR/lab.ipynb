{
  "cells": [
    {
      "cell_type": "markdown",
      "metadata": {},
      "source": [
        "---\n",
        "engine: jupyter\n",
        "jupyter: lab-venv\n",
        "---\n",
        "\n",
        "# 실습실\n",
        "\n",
        "## 1장. 벡터, 스칼라, 그리고 기하학\n",
        "\n",
        "### 1. 스칼라, 벡터, 그리고 좌표계 — 실습\n",
        "\n",
        "손을 더럽혀 봅시다! 이 실습은 선형대수학의 *기본 구성 요소*인 스칼라와 벡터를 다루는 것입니다. **스칼라**를 `3`이나 `-1.5`와 같은 단순한 숫자로 생각해보세요. **벡터**는 숫자의 작은 목록으로, 공간에서 화살표로 그려볼 수 있습니다.\n",
        "\n",
        "Python(과 NumPy)을 사용해서 이를 탐구해보겠습니다. NumPy를 처음 사용하신다면 걱정하지 마세요 — 천천히 진행하겠습니다.\n",
        "\n",
        "#### 실습 환경 설정"
      ]
    },
    {
      "cell_type": "code",
      "metadata": {},
      "source": [
        "import numpy as np"
      ],
      "execution_count": null,
      "outputs": []
    },
    {
      "cell_type": "markdown",
      "metadata": {},
      "source": [
        "이제 준비가 완료되었습니다! NumPy는 선형대수학에 사용할 주요 도구입니다.\n",
        "\n",
        "#### 단계별 코드 설명\n",
        "\n",
        "**스칼라는 단순한 숫자입니다.**"
      ]
    },
    {
      "cell_type": "code",
      "metadata": {},
      "source": [
        "a = 5       # 스칼라\n",
        "b = -2.5    # 또 다른 스칼라\n",
        "\n",
        "print(a + b)   # 더하기\n",
        "print(a * b)   # 곱하기"
      ],
      "execution_count": null,
      "outputs": []
    },
    {
      "cell_type": "markdown",
      "metadata": {},
      "source": [
        "**벡터는 숫자의 목록입니다.**"
      ]
    },
    {
      "cell_type": "code",
      "metadata": {},
      "source": [
        "v = np.array([2, 3])      # 2차원 벡터\n",
        "w = np.array([1, -1, 4])  # 3차원 벡터\n",
        "\n",
        "print(v)\n",
        "print(w)"
      ],
      "execution_count": null,
      "outputs": []
    },
    {
      "cell_type": "markdown",
      "metadata": {},
      "source": [
        "**좌표는 우리가 어디에 있는지 알려줍니다.**\n",
        "`[2, 3]`을 \"x 방향으로 2걸음, y 방향으로 3걸음 가라\"고 생각해보세요.\n",
        "\n",
        "심지어 *그려볼* 수도 있습니다:"
      ]
    },
    {
      "cell_type": "code",
      "metadata": {},
      "source": [
        "import matplotlib.pyplot as plt\n",
        "\n",
        "# 벡터 v 그리기\n",
        "plt.quiver(0, 0, v[0], v[1], angles='xy', scale_units='xy', scale=1, color='r')\n",
        "plt.xlim(0, 4)\n",
        "plt.ylim(0, 4)\n",
        "plt.grid()\n",
        "plt.show()"
      ],
      "execution_count": null,
      "outputs": []
    },
    {
      "cell_type": "markdown",
      "metadata": {},
      "source": [
        "이는 원점 `(0,0)`에서 `(2,3)`까지의 작은 화살표를 만듭니다.\n",
        "\n",
        "#### 직접 해보세요\n",
        "\n",
        "1. 벡터 `v`를 `[4, 1]`로 바꿔보세요. 화살표가 이제 어디를 가리키나요?\n",
        "2. `[1, 2, 3, 4]`처럼 4개의 숫자로 3차원 벡터를 만들어보세요. 무엇이 일어나나요?\n",
        "3. `np.array([2,3])`을 `np.array([0,0])`으로 바꿔보세요. 화살표가 어떻게 보이나요?\n",
        "\n",
        "#### 초보자가 자주 하는 실수\n",
        "\n",
        "* `np.array([...])` 사용을 잊는 것. NumPy 없이 `[2, 3]`을 쓰면 단순한 Python 리스트가 됩니다 — 벡터가 아닙니다.\n",
        "* 차원을 섞는 것: 2차원 벡터와 3차원 벡터를 직접 더할 수는 없습니다.\n",
        "\n",
        "#### 핵심 정리\n",
        "\n",
        "* **스칼라**는 단일 숫자입니다.\n",
        "* **벡터**는 공간에서 점이나 화살표를 나타내는 숫자의 목록입니다.\n",
        "* 좌표계는 벡터를 격자 위에 배치하고 시각화할 수 있게 해줍니다.\n"
      ]
    }
  ],
  "metadata": {
    "kernelspec": {
      "name": "lab-venv",
      "language": "python",
      "display_name": "Python (lab-venv)",
      "path": "/Users/apple/Library/Jupyter/kernels/lab-venv"
    }
  },
  "nbformat": 4,
  "nbformat_minor": 4
}